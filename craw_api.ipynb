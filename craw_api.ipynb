{
 "cells": [
  {
   "cell_type": "code",
   "execution_count": 1,
   "metadata": {},
   "outputs": [],
   "source": [
    "import requests\n",
    "import pandas as pd"
   ]
  },
  {
   "cell_type": "code",
   "execution_count": 2,
   "metadata": {},
   "outputs": [],
   "source": [
    "api = \"https://api-v2.soundcloud.com\"\n",
    "client_id = \"6gsNBd4mJwXr0LxTBh8VKBOrViK6Aj56\"\n",
    "client_id_query = \"?client_id={}\".format(client_id)"
   ]
  },
  {
   "cell_type": "code",
   "execution_count": 3,
   "metadata": {},
   "outputs": [],
   "source": [
    "# \"top50_url.txt\" contains url of top lists ( system-playlists of top 50 tracks)\n",
    "# Convert url_lists from txt file to List python\n",
    "sys_playlists = []\n",
    "with open(\"top50_url.txt\") as file:\n",
    "    lines = [ sys_playlists.append(line.rstrip()) for line in file]"
   ]
  },
  {
   "cell_type": "code",
   "execution_count": 4,
   "metadata": {},
   "outputs": [],
   "source": [
    "# Sending request for each system-playlists to get track_id of top system-playlists\n",
    "track_ids = []  # holding id of track\n",
    "\n",
    "for sys_url in sys_playlists:\n",
    "    resolve_api = api + \"/resolve\" + client_id_query + \"&url={}\".format(sys_url)\n",
    "    res = requests.get(resolve_api)\n",
    "    for track in res.json()['tracks']:\n",
    "        track_ids.append(track['id'])"
   ]
  },
  {
   "cell_type": "code",
   "execution_count": 5,
   "metadata": {},
   "outputs": [],
   "source": [
    "# From that track_id, we send request for each tracks to get user_id of each track\n",
    "user_ids = []   # containing id of user\n",
    "\n",
    "for track in track_ids:\n",
    "    track_api = api + \"/tracks/{}\".format(track) + client_id_query\n",
    "    res = requests.get(track_api)\n",
    "    user_ids.append(res.json()['user']['id'])"
   ]
  },
  {
   "cell_type": "code",
   "execution_count": 9,
   "metadata": {},
   "outputs": [],
   "source": [
    "users = []  # containing detail information of each user\n",
    "\n",
    "for user_id in user_ids:\n",
    "    user_api = api + \"/users/{}\".format(user_id) + client_id_query\n",
    "    res = requests.get(user_api)\n",
    "    users.append(res.json())"
   ]
  },
  {
   "cell_type": "code",
   "execution_count": 24,
   "metadata": {},
   "outputs": [],
   "source": [
    "# Define a schema for User Dataframe and converting to CSV file\n",
    "users_table = pd.DataFrame({\n",
    "    'id': pd.Series([u['id'] if u['id'] else 'None' for u in [user for user in users]]),\n",
    "    'username': pd.Series([u['username'] if u['username'] else 'None' for u in [user for user in users]]),\n",
    "    'first_name': pd.Series([u['first_name'] if u['first_name'] else 'None' for u in [user for user in users]]),\n",
    "    'last_name': pd.Series([u['last_name'] if u['last_name'] else 'None' for u in [user for user in users]]),\n",
    "    'full_name': pd.Series([u['full_name'] if u['full_name'] else 'None' for u in [user for user in users]]),\n",
    "    'description': pd.Series([u['description'] if u['description'] else 'None' for u in [user for user in users]]),\n",
    "    'verified': pd.Series([u['verified'] if u['verified'] else 'None' for u in [user for user in users]]),\n",
    "    'city': pd.Series([u['city'] if u['city'] else 'None' for u in [user for user in users]]),\n",
    "    'country_code': pd.Series([u['country_code'] if u['country_code'] else 'None' for u in [user for user in users]]),\n",
    "    'followers_count': pd.Series([u['followers_count'] if u['followers_count'] else 'None' for u in [user for user in users]]),\n",
    "    'followings_count': pd.Series([u['followings_count'] if u['followings_count'] else 'None' for u in [user for user in users]]),\n",
    "    'comments_count': pd.Series([u['comments_count'] if u['comments_count'] else 'None' for u in [user for user in users]]),\n",
    "    'track_count': pd.Series([u['track_count'] if u['track_count'] else 'None' for u in [user for user in users]]),\n",
    "    'avatar_url': pd.Series([u['avatar_url'] if u['avatar_url'] else 'None' for u in [user for user in users]]),\n",
    "    'groups_count': pd.Series([u['groups_count'] if u['groups_count'] else 'None' for u in [user for user in users]]),\n",
    "    'playlist_count': pd.Series([u['playlist_count'] if u['playlist_count'] else 'None' for u in [user for user in users]]),\n",
    "    'reposts_count': pd.Series([u['reposts_count'] if u['reposts_count'] else 'None' for u in [user for user in users]]),\n",
    "    'last_modified': pd.Series([u['last_modified'] if u['last_modified'] else 'None' for u in [user for user in users]]),\n",
    "    'created_at': pd.Series([u['created_at'] if u['created_at'] else 'None' for u in [user for user in users]])\n",
    "})\n",
    "\n",
    "users_table.to_csv('Api_data/users.csv')"
   ]
  },
  {
   "cell_type": "code",
   "execution_count": null,
   "metadata": {},
   "outputs": [],
   "source": []
  },
  {
   "cell_type": "code",
   "execution_count": null,
   "metadata": {},
   "outputs": [],
   "source": []
  },
  {
   "cell_type": "code",
   "execution_count": null,
   "metadata": {},
   "outputs": [],
   "source": []
  },
  {
   "cell_type": "code",
   "execution_count": null,
   "metadata": {},
   "outputs": [],
   "source": []
  }
 ],
 "metadata": {
  "interpreter": {
   "hash": "628dd01b888ab9cdfddc3a0771c5db8a998a3af968dbb11740c2370c8ddf1b03"
  },
  "kernelspec": {
   "display_name": "Python 3.8.8 64-bit ('min_ds-env': conda)",
   "name": "python3"
  },
  "language_info": {
   "codemirror_mode": {
    "name": "ipython",
    "version": 3
   },
   "file_extension": ".py",
   "mimetype": "text/x-python",
   "name": "python",
   "nbconvert_exporter": "python",
   "pygments_lexer": "ipython3",
   "version": "3.8.8"
  },
  "orig_nbformat": 4
 },
 "nbformat": 4,
 "nbformat_minor": 2
}
