{
 "cells": [
  {
   "cell_type": "markdown",
   "metadata": {},
   "source": [
    "## Members\n",
    "- Cao Thanh Khiết   19120544\n",
    "- Ninh Duy Huy      19120533\n",
    "- Lê Minh Hữu       19120525\n",
    "- Nguyễn Tuấn Khoa  19120547\n",
    "- Trần Tuấn Kiệt    19120557\n",
    "# Task of each member\n",
    "- Cao Thanh Khiết\n",
    "    - Use SoundClound API to get data and write down them into csv file\n",
    "- Ninh Duy Huy\n",
    "    - Parse HTML to get data and write down them into csv file\n",
    "- Lê Minh Hữu\n",
    "    - Parse HTML to get data and write down them into csv file\n",
    "- Nguyễn Tuấn Khoa\n",
    "    - Parse HTML to get data and write down them into csv file\n",
    "- Trần Tuấn Kiệt\n",
    "    - Parse HTML to get data and write down them into csv file"
   ]
  },
  {
   "cell_type": "markdown",
   "metadata": {},
   "source": [
    "# Thời gian chạy hết chương trình xấp xỉ 25 phút"
   ]
  },
  {
   "cell_type": "markdown",
   "metadata": {},
   "source": [
    "# Cấu trúc thư mục\n",
    "### **Api_data folder**: chứa dữ liệu ở dạng csv thu thập đc sau khi chạy code bằng cách call API\n",
    "- Có 3 files với đuôi **_sample** : này là 3 file có đc khi chạy test, sẽ có rất nhiều rows nhưng thời gian chạy rất lâu\n",
    "- Thực tế khi chạy sẽ ra 3 files là playlists.csv, tracks.csv, users.csv: thời gian chạy sẽ ngắn hơn và số hàng của mỗi file sẽ <= 700 dòng\n",
    "### **Crawl_data folder**: chứa dữ liệu sau khi chạy code parse HTML\n",
    "### **docs folder**: chứa file đề bài \n",
    "### **url_entry folder**: chứa các url đầu vào, chương trình đầu tiên để gửi request tới các url này để lấy top 50 tracks, làm nền cho việc gửi các request về sau\n",
    "### **craw_api.ipynb**: file source code chạy bằng cách call API\n",
    "### **parse_html.ipynb**: file source code chạy bằng cách parse HTML\n"
   ]
  },
  {
   "cell_type": "code",
   "execution_count": 1,
   "metadata": {},
   "outputs": [],
   "source": [
    "# More information in README.md file\n",
    "import requests\n",
    "import pandas as pd"
   ]
  },
  {
   "cell_type": "code",
   "execution_count": 2,
   "metadata": {},
   "outputs": [],
   "source": [
    "api = \"https://api-v2.soundcloud.com\"\n",
    "client_id = \"6gsNBd4mJwXr0LxTBh8VKBOrViK6Aj56\"\n",
    "client_id_query = \"?client_id={}\".format(client_id)"
   ]
  },
  {
   "cell_type": "code",
   "execution_count": 3,
   "metadata": {},
   "outputs": [],
   "source": [
    "# \"top50_url.txt\" contains url of top lists ( system-playlists of top 50 tracks)\n",
    "# This cell Convert url_lists from txt file to List python\n",
    "# url_entrypoint = \"url_entry/top50_url.txt\"\n",
    "url_entrypoint = \"url_entry/top50_url_max.txt\"\n",
    "sys_playlists_url = []\n",
    "\n",
    "with open(url_entrypoint) as file:\n",
    "    lines = [ sys_playlists_url.append(line.rstrip()) for line in file]"
   ]
  },
  {
   "cell_type": "code",
   "execution_count": 4,
   "metadata": {},
   "outputs": [],
   "source": [
    "# Sending request for each system-playlists to get track_id of top system-playlists\n",
    "track_ids = []  # holding id of track\n",
    "\n",
    "for sys_url in sys_playlists_url:\n",
    "    try:\n",
    "        resolve_api = api + \"/resolve\" + client_id_query + \"&url={}\".format(sys_url)\n",
    "        res = requests.get(resolve_api)\n",
    "        for track in res.json()['tracks']:\n",
    "            track_ids.append(track['id'])\n",
    "    except KeyError:\n",
    "        pass"
   ]
  },
  {
   "cell_type": "code",
   "execution_count": 5,
   "metadata": {},
   "outputs": [],
   "source": [
    "# From that track_id, we send request for each tracks to get user_id of each track\n",
    "user_ids = []   # containing id of user\n",
    "count = 0\n",
    "\n",
    "for track in track_ids:\n",
    "    try:\n",
    "        track_api = api + \"/tracks/{}\".format(track) + client_id_query\n",
    "        res = requests.get(track_api)\n",
    "        user_ids.append(res.json()['user']['id'])\n",
    "        count += 1\n",
    "        if count > 700:\n",
    "            break\n",
    "    except KeyError:\n",
    "        pass"
   ]
  },
  {
   "cell_type": "code",
   "execution_count": 6,
   "metadata": {},
   "outputs": [],
   "source": [
    "users = []  # containing detail information of each user\n",
    "count = 0\n",
    "\n",
    "for user_id in user_ids:\n",
    "    user_api = api + \"/users/{}\".format(user_id) + client_id_query\n",
    "    res = requests.get(user_api)\n",
    "    users.append(res.json())\n",
    "    count += 1\n",
    "    if count > 700:\n",
    "        break"
   ]
  },
  {
   "cell_type": "code",
   "execution_count": 7,
   "metadata": {},
   "outputs": [],
   "source": [
    "# Define a schema for User Dataframe and converting to CSV file\n",
    "users_table = pd.DataFrame({\n",
    "    'id': pd.Series([u['id'] if u['id'] else 'None' for u in [user for user in users]]),\n",
    "    'username': pd.Series([u['username'] if u['username'] else 'None' for u in [user for user in users]]),\n",
    "    'first_name': pd.Series([u['first_name'] if u['first_name'] else 'None' for u in [user for user in users]]),\n",
    "    'last_name': pd.Series([u['last_name'] if u['last_name'] else 'None' for u in [user for user in users]]),\n",
    "    'full_name': pd.Series([u['full_name'] if u['full_name'] else 'None' for u in [user for user in users]]),\n",
    "    'description': pd.Series([u['description'] if u['description'] else 'None' for u in [user for user in users]]),\n",
    "    'verified': pd.Series([u['verified'] if u['verified'] else 'None' for u in [user for user in users]]),\n",
    "    'city': pd.Series([u['city'] if u['city'] else 'None' for u in [user for user in users]]),\n",
    "    'country_code': pd.Series([u['country_code'] if u['country_code'] else 'None' for u in [user for user in users]]),\n",
    "    'followers_count': pd.Series([u['followers_count'] if u['followers_count'] else 'None' for u in [user for user in users]]),\n",
    "    'followings_count': pd.Series([u['followings_count'] if u['followings_count'] else 'None' for u in [user for user in users]]),\n",
    "    'comments_count': pd.Series([u['comments_count'] if u['comments_count'] else 'None' for u in [user for user in users]]),\n",
    "    'track_count': pd.Series([u['track_count'] if u['track_count'] else 'None' for u in [user for user in users]]),\n",
    "    'avatar_url': pd.Series([u['avatar_url'] if u['avatar_url'] else 'None' for u in [user for user in users]]),\n",
    "    'groups_count': pd.Series([u['groups_count'] if u['groups_count'] else 'None' for u in [user for user in users]]),\n",
    "    'playlist_count': pd.Series([u['playlist_count'] if u['playlist_count'] else 'None' for u in [user for user in users]]),\n",
    "    'reposts_count': pd.Series([u['reposts_count'] if u['reposts_count'] else 'None' for u in [user for user in users]]),\n",
    "    'last_modified': pd.Series([u['last_modified'] if u['last_modified'] else 'None' for u in [user for user in users]]),\n",
    "    'created_at': pd.Series([u['created_at'] if u['created_at'] else 'None' for u in [user for user in users]])\n",
    "})\n",
    "\n",
    "users_table.to_csv('Api_data/users.csv')"
   ]
  },
  {
   "cell_type": "code",
   "execution_count": 8,
   "metadata": {},
   "outputs": [],
   "source": [
    "## This cell parse playlist_id and track_id, writing it into playlists.csv file\n",
    "playlists = [] # Containing List of Dict, Dict includes playlist_id and track_ids property\n",
    "count = 0\n",
    "\n",
    "for user_id in user_ids:\n",
    "    user_api = api + \"/users/{}/playlists\".format(user_id) + client_id_query\n",
    "    try:\n",
    "        res = requests.get(user_api)\n",
    "        collection = res.json()['collection']\n",
    "        # loop\n",
    "        for playlist in collection:\n",
    "            playlist_id = playlist['id']\n",
    "            track_id_string = ''\n",
    "            for item in playlist['tracks']:\n",
    "                track_id_string += str(item['id']) + ','\n",
    "            track_id_string = track_id_string[:-1] if track_id_string != '' else 'None'\n",
    "            playlists.append({\n",
    "                'playlist_id': playlist_id,\n",
    "                'track_ids': track_id_string\n",
    "            })\n",
    "            count += 1\n",
    "            if count > 700:\n",
    "                break\n",
    "    except KeyError:\n",
    "        pass\n",
    "\n",
    "playlists_table = pd.DataFrame(playlists)\n",
    "playlists_table.to_csv('Api_data/playlists.csv')"
   ]
  },
  {
   "cell_type": "code",
   "execution_count": 9,
   "metadata": {},
   "outputs": [],
   "source": [
    "# Get information of each track from playlists.csv file\n",
    "tracks_detail = []\n",
    "read_playlists = pd.read_csv('Api_data/playlists.csv')\n",
    "count = 0\n",
    "# parse string from playlists.csv file to get track_id and send request to retrive detail information of each track\n",
    "\n",
    "for index, row in read_playlists.iterrows():\n",
    "    tracks = row['track_ids'].split(',')\n",
    "    for track in tracks:\n",
    "        \n",
    "        if track == 'None':\n",
    "            continue\n",
    "        track_api = api + \"/tracks/{}\".format(track) + client_id_query\n",
    "        res = requests.get(track_api)\n",
    "        tracks_detail.append(res.json())\n",
    "        count += 1\n",
    "        if count > 600:\n",
    "            break\n",
    "\n",
    "# Remove some unnessesary property of each track\n",
    "key_remover = ['artwork_url', 'publisher_metadata', 'media', 'user', 'badges']\n",
    "\n",
    "for key in key_remover:\n",
    "    for dic in tracks_detail:\n",
    "        dic.pop(key, None)\n",
    "\n",
    "# convert infor track into csv file\n",
    "track_df = pd.DataFrame(tracks_detail)\n",
    "track_df.to_csv('Api_data/tracks.csv')\n"
   ]
  }
 ],
 "metadata": {
  "interpreter": {
   "hash": "628dd01b888ab9cdfddc3a0771c5db8a998a3af968dbb11740c2370c8ddf1b03"
  },
  "kernelspec": {
   "display_name": "Python 3 (ipykernel)",
   "language": "python",
   "name": "python3"
  },
  "language_info": {
   "codemirror_mode": {
    "name": "ipython",
    "version": 3
   },
   "file_extension": ".py",
   "mimetype": "text/x-python",
   "name": "python",
   "nbconvert_exporter": "python",
   "pygments_lexer": "ipython3",
   "version": "3.8.8"
  }
 },
 "nbformat": 4,
 "nbformat_minor": 2
}
